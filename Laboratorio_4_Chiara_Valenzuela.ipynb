{
  "nbformat": 4,
  "nbformat_minor": 0,
  "metadata": {
    "colab": {
      "provenance": []
    },
    "kernelspec": {
      "name": "python3",
      "display_name": "Python 3"
    },
    "language_info": {
      "name": "python"
    }
  },
  "cells": [
    {
      "cell_type": "markdown",
      "source": [
        "<p align=\"center\">\n",
        "<FONT FACE=\"times new roman\" SIZE=5>\n",
        "<br>\n",
        "<img src=\"https://res-5.cloudinary.com/crunchbase-production/image/upload/c_lpad,h_256,w_256,f_auto,q_auto:eco/v1455514364/pim02bzqvgz0hibsra41.png\"\n",
        "width=\"250\" height=\"250\">\n",
        "</img>\n",
        "<br>\n",
        "<i><b>Docente:</b> Juan Pablo Ospina Lopez.</i>\n",
        "<br>\n",
        "<i><b>Asignatura:</b> Inteligencia Artificial</i>\n",
        "<br>\n",
        "<i><b>Estudiante:</b> Chiara Vivian Valenzuela Losada</i>\n",
        "<br>\n",
        "<i><b>Tema:</b> Laboratorio 4. Introducción a ML.</i>\n",
        "<br>\n",
        "<i>11/09/2023</i>\n",
        "</FONT>\n",
        "</p>"
      ],
      "metadata": {
        "id": "MbOyzebtpOtQ"
      }
    },
    {
      "cell_type": "markdown",
      "source": [
        "<p align=\"center\">\n",
        "<FONT FACE=\"times new roman\">\n",
        "\n",
        "# **Capítulo de cosmos**\n",
        "\n",
        "Vea el capítulo de cosmos sobre Johannes Kepler. ¿Existe alguna relación con la manera como se realizan los proyectos de aprendizaje automático en este momento? ¿Qué diferencias existen?\n",
        "\n",
        "</FONT>\n",
        "</p>"
      ],
      "metadata": {
        "id": "ZrzVI2OwwtZ5"
      }
    },
    {
      "cell_type": "markdown",
      "source": [
        "<p align=\"center\">\n",
        "<FONT FACE=\"times new roman\">\n",
        "\n",
        "**Relación con proyectos de aprendizaje automático:**\n",
        "\n",
        "- *Uso de datos y observación:* Kepler recopiló observaciones detalladas de los movimientos planetarios a lo largo del tiempo. De manera similar, los proyectos de aprendizaje automático a menudo se basan en la recopilación y el análisis de grandes conjuntos de datos para extraer patrones y hacer predicciones.\n",
        "\n",
        "- *Modelado matemático:* Kepler desarrolló leyes matemáticas precisas que describen el movimiento de los planetas. En el aprendizaje automático, se utilizan modelos matemáticos y algoritmos para entrenar sistemas que pueden aprender de los datos y tomar decisiones.\n",
        "\n",
        "- *Generalización y predicción:* Kepler utilizó sus leyes para hacer predicciones precisas sobre la posición futura de los planetas. En el aprendizaje automático, los modelos se entrenan para generalizar a partir de datos existentes y realizar predicciones sobre datos nuevos o desconocidos.\n",
        "\n",
        "**Diferencias con proyectos de aprendizaje automático:**\n",
        "\n",
        "* *Naturaleza de los datos:* Kepler trabajó con datos astronómicos recopilados manualmente a lo largo de décadas. En contraste, los proyectos de aprendizaje automático a menudo se basan en datos digitales masivos y en tiempo real, y pueden aprovechar tecnologías como sensores y cámaras.\n",
        "\n",
        "- *Tamaño y complejidad de los modelos:* Kepler utilizó ecuaciones matemáticas relativamente simples para describir el movimiento planetario. En el aprendizaje automático, los modelos pueden ser extremadamente complejos y pueden involucrar redes neuronales profundas con millones de parámetros.\n",
        "\n",
        "- *Objetivos diferentes:* Kepler estaba interesado en comprender los movimientos planetarios y el sistema solar. En contraste, los proyectos de aprendizaje automático tienen una variedad de aplicaciones, que van desde la detección de fraudes hasta la recomendación de películas.\n",
        "\n",
        "</FONT>\n",
        "</p>"
      ],
      "metadata": {
        "id": "HyhHFyxUrYFg"
      }
    },
    {
      "cell_type": "markdown",
      "source": [
        "<p align=\"center\">\n",
        "<FONT FACE=\"times new roman\">\n",
        "\n",
        "# **Diferencias y similitudes**\n",
        "\n",
        "¿Qué diferencias y similitudes existen entre la ciencia de datos, el Big data, el aprendizaje de máquina, la estadística, inteligencia artificial y aprendizaje profundo?\n",
        "\n",
        "</FONT>\n",
        "</p>"
      ],
      "metadata": {
        "id": "f4i5b4lisf4g"
      }
    },
    {
      "cell_type": "markdown",
      "source": [
        "<p align=\"center\">\n",
        "<FONT FACE=\"times new roman\">\n",
        "\n",
        "### **Similitudes:**\n",
        "\n",
        "</FONT>\n",
        "</p>"
      ],
      "metadata": {
        "id": "RFBZz547tZ_B"
      }
    },
    {
      "cell_type": "markdown",
      "source": [
        "<p align=\"center\">\n",
        "<FONT FACE=\"times new roman\">\n",
        "\n",
        "1. **Enfoque en Datos:** Todos estos campos se centran en el análisis y procesamiento de datos para obtener información valiosa y tomar decisiones informadas.\n",
        "\n",
        "2. **Matemáticas y Estadísticas:** La matemática y la estadística desempeñan un papel fundamental en cada uno de estos campos para modelar y analizar datos.\n",
        "\n",
        "3. **Aplicaciones Prácticas:** Se aplican en una amplia variedad de aplicaciones prácticas en campos como la medicina, el comercio electrónico, la robótica, la ingeniería, la seguridad cibernética y más.\n",
        "\n",
        "4. **Interdisciplinarios:** Todos estos campos son interdisciplinarios y requieren conocimientos de diversas áreas, como matemáticas, informática, estadísticas y dominio del problema.\n",
        "\n",
        "5. **Tecnología y Herramientas:** Dependen en gran medida de la tecnología y herramientas avanzadas para manejar y analizar grandes volúmenes de datos.\n",
        "\n",
        "</FONT>\n",
        "</p>"
      ],
      "metadata": {
        "id": "RHPH9TQNvb5Q"
      }
    },
    {
      "cell_type": "markdown",
      "source": [
        "<p align=\"center\">\n",
        "<FONT FACE=\"times new roman\">\n",
        "\n",
        "### **Diferencias**\n",
        "\n",
        "\n",
        "</FONT>\n",
        "</p>"
      ],
      "metadata": {
        "id": "vsQL4TRRtshA"
      }
    },
    {
      "cell_type": "markdown",
      "source": [
        "<p align=\"center\">\n",
        "<FONT FACE=\"times new roman\">\n",
        "\n",
        "**Definición y Objetivos:**\n",
        "\n",
        "- La ciencia de datos se centra en el proceso completo de análisis de datos, desde la adquisición hasta la toma de decisiones.\n",
        "- El Big Data se enfoca principalmente en el manejo de grandes conjuntos de datos, con énfasis en la infraestructura y el procesamiento.\n",
        "- El aprendizaje de máquina se refiere a la construcción de modelos que pueden aprender y tomar decisiones basadas en datos.\n",
        "- La estadística es una disciplina que se ocupa del análisis de datos y la inferencia.\n",
        "- La inteligencia artificial busca crear sistemas que puedan realizar tareas inteligentes sin ser programados explícitamente.\n",
        "- El aprendizaje profundo es una subdisciplina del aprendizaje de máquina que utiliza redes neuronales profundas para modelar datos.\n",
        "\n",
        "\n",
        "**Escalabilidad de Datos:**\n",
        "\n",
        "- La ciencia de datos puede trabajar con datos de cualquier tamaño y no está limitada por la escala.\n",
        "- El Big Data se enfoca en el manejo de grandes volúmenes de datos que pueden ser petabytes o más.\n",
        "- El aprendizaje de máquina puede trabajar con datos pequeños o grandes y es escalable.\n",
        "- La estadística no está limitada por la escala de datos.\n",
        "- La inteligencia artificial puede trabajar con datos pequeños o grandes y es escalable.\n",
        "- El aprendizaje profundo a menudo requiere grandes cantidades de datos y potencia de cómputo.\n",
        "\n",
        "**Requerimientos de Datos y Recursos:**\n",
        "\n",
        "- El Big Data generalmente requiere infraestructura robusta para manejar grandes conjuntos de datos y recursos de almacenamiento y procesamiento escalables.\n",
        "- El aprendizaje profundo suele requerir grandes conjuntos de datos etiquetados y recursos de cómputo de alto rendimiento, como GPU.\n",
        "\n",
        "\n",
        "</FONT>\n",
        "</p>"
      ],
      "metadata": {
        "id": "_KrXzJEsu7dI"
      }
    },
    {
      "cell_type": "markdown",
      "source": [
        "<p align=\"center\">\n",
        "<FONT FACE=\"times new roman\" SIZE=5>\n",
        "\n",
        "| Aspecto               | Ciencia de Datos    | Big Data            | Aprendizaje de Máquina | Estadística        | Inteligencia Artificial | Aprendizaje Profundo |\n",
        "|-----------------------|---------------------|---------------------|-------------------------|---------------------|-------------------------|-----------------------|\n",
        "| **Enfoque Principal** | Análisis de datos, obtención de insights y toma de decisiones basadas en datos. | Gestión y procesamiento de datos a gran escala, incluyendo almacenamiento distribuido y técnicas de procesamiento. | Entrenamiento de modelos para predicción y toma de decisiones automatizadas. | Análisis y modelado estadístico para inferir conclusiones. | Automatización de tareas inteligentes y razonamiento lógico. | Modelado complejo con redes neuronales profundas. |\n",
        "| **Técnicas Comunes**  | Minería de datos, visualización, estadísticas descriptivas. | Almacenamiento distribuido, procesamiento en clústeres, técnicas de procesamiento masivo. | Regresión, clasificación, agrupamiento, redes neuronales, árboles de decisión, SVM. | Pruebas de hipótesis, análisis de varianza, regresión lineal, métodos estadísticos. | Algoritmos de aprendizaje supervisado y no supervisado, redes bayesianas. | Redes neuronales convolucionales (CNN), redes neuronales recurrentes (RNN), GAN. |\n",
        "| **Ejemplos de Aplicación** | Análisis de mercado, recomendación de productos, análisis de redes sociales. | Análisis de registros de transacciones, análisis de redes sociales a gran escala. | Reconocimiento de voz, detección de spam, diagnóstico médico asistido por computadora. | Estudios clínicos, análisis de encuestas, control de calidad. | Asistentes virtuales, chatbots, visión por computadora. | Reconocimiento de imágenes, procesamiento de lenguaje natural, conducción autónoma. |\n",
        "\n",
        "</FONT>\n",
        "</p>"
      ],
      "metadata": {
        "id": "FuF2ItQMrMuQ"
      }
    },
    {
      "cell_type": "markdown",
      "source": [
        "<p align=\"center\">\n",
        "<FONT FACE=\"times new roman\">\n",
        "\n",
        "# **Hypothesis vs Data Driven Science**\n",
        "\n",
        "Lea el artículo titulado: Hypothesis vs Data Driven Science e identifique al menos 4 ideas que le parezcan significativas\n",
        "\n",
        "</FONT>\n",
        "</p>"
      ],
      "metadata": {
        "id": "pf4EiHbtsgk3"
      }
    },
    {
      "cell_type": "markdown",
      "source": [
        "<p align=\"center\">\n",
        "<FONT FACE=\"times new roman\">\n",
        "\n",
        "1. La realidad posee una estructura jerárquica similar a una pirámide, gobernada desde arriba por unas pocas leyes profundas de alto nivel y manifestada en su máxima complejidad en el nivel fenomenológico más bajo.\n",
        "\n",
        "2. Hay dos estrategias que se pueden emplear para modelar los fenómenos: buscar lo simple o acumular suficientes datos fenomenológicos y dejar que las máquinas hagan el trabajo rutinario.\n",
        "\n",
        "3. La ciencia impulsada por hipótesis tiene una dirección desde el principio, lo que hace que las sorpresas sean difíciles de encontrar, a menos que se tengan capacidades de intuición excepcionalmente creativas.\n",
        "\n",
        "4. Los modelos computacionales de aprendizaje automático pueden predecir los pliegues de proteínas con mayor precisión que los investigadores humanos, lo que lleva a algunos a lamentar la pérdida de la teoría sobre los datos.\n",
        "\n",
        "</FONT>\n",
        "</p>"
      ],
      "metadata": {
        "id": "ppbDkjlGqEH6"
      }
    },
    {
      "cell_type": "markdown",
      "source": [
        "<p align=\"center\">\n",
        "<FONT FACE=\"times new roman\">\n",
        "\n",
        "# **Científico de datos, un analista de datos y un ingeniero**\n",
        "\n",
        "¿En qué se diferencia un científico de datos, un analista de datos y un ingeniero de machine learning?\n",
        "\n",
        "</FONT>\n",
        "</p>"
      ],
      "metadata": {
        "id": "mBf2v30RsgRv"
      }
    },
    {
      "cell_type": "markdown",
      "source": [
        "<p align=\"center\">\n",
        "<FONT FACE=\"times new roman\">\n",
        "\n",
        "*Científico de Datos (Data Scientist):*\n",
        "\n",
        "1. **Enfoque Principal:** Los científicos de datos tienen un enfoque amplio que abarca todo el ciclo de vida de los datos, desde la recopilación y limpieza hasta la modelización y la comunicación de resultados. Se centran en la generación de conocimiento a partir de los datos.\n",
        "\n",
        "2. **Responsabilidades Típicas:**\n",
        "   - Recopilación y limpieza de datos.\n",
        "   - Análisis exploratorio de datos.\n",
        "   - Desarrollo de modelos de aprendizaje de máquina.\n",
        "   - Evaluación y selección de modelos.\n",
        "   - Comunicación de resultados a partes interesadas.\n",
        "\n",
        "3. **Habilidades Requeridas:** Los científicos de datos deben tener habilidades en programación (por ejemplo, Python o R), estadísticas, aprendizaje de máquina, visualización de datos y comunicación. También necesitan conocimientos de dominio para comprender el contexto de los datos.\n",
        "\n",
        "4. **Objetivo Final:** Su objetivo final es utilizar datos para generar insights, pronosticar tendencias y tomar decisiones informadas en una variedad de campos.\n",
        "\n",
        "*Analista de Datos (Data Analyst):*\n",
        "\n",
        "1. **Enfoque Principal:** Los analistas de datos se centran en analizar datos existentes para responder preguntas específicas y proporcionar información que respalde la toma de decisiones.\n",
        "\n",
        "2. **Responsabilidades Típicas:**\n",
        "   - Recopilación y limpieza de datos.\n",
        "   - Análisis estadístico y exploratorio de datos.\n",
        "   - Creación de informes y visualizaciones de datos.\n",
        "   - Identificación de tendencias y patrones.\n",
        "\n",
        "3. **Habilidades Requeridas:** Los analistas de datos necesitan habilidades en estadísticas, análisis de datos y herramientas de visualización (como Excel o herramientas de Business Intelligence). También pueden utilizar SQL para consultas de bases de datos.\n",
        "\n",
        "4. **Objetivo Final:** Su objetivo final es proporcionar información que respalde la toma de decisiones en un contexto específico utilizando datos existentes.\n",
        "\n",
        "*Ingeniero de Machine Learning (Machine Learning Engineer):*\n",
        "\n",
        "1. **Enfoque Principal:** Los ingenieros de machine learning se centran en el desarrollo y la implementación de sistemas de aprendizaje de máquina en producción.\n",
        "\n",
        "2. **Responsabilidades Típicas:**\n",
        "   - Construcción y optimización de modelos de aprendizaje de máquina.\n",
        "   - Implementación de modelos en aplicaciones y sistemas.\n",
        "   - Automatización de flujos de trabajo de aprendizaje de máquina.\n",
        "   - Mantenimiento y escalabilidad de sistemas de machine learning.\n",
        "\n",
        "3. **Habilidades Requeridas:** Los ingenieros de machine learning necesitan habilidades en programación (generalmente en lenguajes como Python o Java), experiencia en aprendizaje de máquina, implementación de modelos en producción y conocimientos de ingeniería de software.\n",
        "\n",
        "4. **Objetivo Final:** Su objetivo final es desarrollar sistemas de machine learning que funcionen en la vida real y puedan tomar decisiones automatizadas basadas en datos.\n",
        "\n",
        "En resumen, los científicos de datos se centran en la generación de conocimiento a partir de los datos, los analistas de datos se enfocan en el análisis de datos existentes para respaldar decisiones, y los ingenieros de machine learning desarrollan sistemas de machine learning para la implementación en aplicaciones y sistemas en producción. Cada uno de estos roles desempeña un papel esencial en el campo de los datos y el aprendizaje de máquina.\n",
        "\n",
        "</FONT>\n",
        "</p>"
      ],
      "metadata": {
        "id": "WAvc5l740qxS"
      }
    },
    {
      "cell_type": "markdown",
      "source": [
        "<p align=\"center\">\n",
        "<FONT FACE=\"times new roman\">\n",
        "\n",
        "# **Científico de datos para la alcaldía de Bogotá**\n",
        "\n",
        "Suponga que usted trabaja como científico de datos para la alcaldía de Bogotá. Proponga al menos 3 problemáticas que puedan ser abordadas utilizando técnicas de aprendizaje supervisado.\n",
        "\n",
        "</FONT>\n",
        "</p>"
      ],
      "metadata": {
        "id": "Fcxr2z-5xMRR"
      }
    },
    {
      "cell_type": "markdown",
      "source": [
        "<p align=\"center\">\n",
        "<FONT FACE=\"times new roman\">\n",
        "\n",
        "1. **Predicción de Accidentes de Tráfico:** Utilizando datos históricos de accidentes de tráfico, condiciones meteorológicas, congestión del tráfico y otros factores relevantes, se podría construir un modelo de aprendizaje supervisado para predecir la probabilidad de que ocurran accidentes en diferentes áreas de la ciudad en función de las condiciones actuales. Esto permitiría a la alcaldía tomar medidas proactivas para reducir los accidentes y mejorar la seguridad vial.\n",
        "\n",
        "2. **Detección y Predicción de Contaminación del Aire:** Bogotá enfrenta desafíos relacionados con la calidad del aire debido al tráfico y otras fuentes de contaminación. Un modelo de aprendizaje supervisado podría utilizar datos históricos de calidad del aire, datos meteorológicos, tráfico y otros factores para predecir niveles de contaminación futuros. Esto ayudaría a la alcaldía a implementar políticas y medidas de mitigación en áreas con mayor riesgo de contaminación.\n",
        "\n",
        "3. **Predicción de Demanda de Transporte Público:** Mediante el uso de datos de uso del transporte público, demografía, eventos especiales y horarios, se podría desarrollar un modelo de aprendizaje supervisado para predecir la demanda en diferentes rutas y momentos del día. Esto permitiría una mejor planificación de la capacidad y la eficiencia del sistema.\n",
        "\n",
        "4. **Predicción de Inundaciones:** Utilizando datos históricos de lluvias, niveles de ríos, topografía y datos de sensores ambientales, se podría desarrollar un modelo de aprendizaje supervisado para predecir el riesgo de inundaciones en diferentes áreas de la ciudad. Esto ayudaría en la planificación de medidas de prevención y evacuación durante condiciones climáticas extremas.\n",
        "\n",
        "</FONT>\n",
        "</p>"
      ],
      "metadata": {
        "id": "jTwDeJ3ByNwZ"
      }
    },
    {
      "cell_type": "markdown",
      "source": [
        "<p align=\"center\">\n",
        "<FONT FACE=\"times new roman\" SIZE=5>\n",
        "\n",
        "# **Ejercicios de Numpy**\n",
        "\n",
        "Realice los ejercicios de Numpy propuestos en el archivo adjunto.\n",
        "\n",
        "</FONT>\n",
        "</p>"
      ],
      "metadata": {
        "id": "aZO-3fn-sH34"
      }
    },
    {
      "cell_type": "code",
      "source": [
        "import numpy as np\n",
        "print(np.__version__)"
      ],
      "metadata": {
        "colab": {
          "base_uri": "https://localhost:8080/"
        },
        "id": "8vbtzRI__Nn-",
        "outputId": "ad36da93-ff73-484c-f883-9a1bdab87396"
      },
      "execution_count": null,
      "outputs": [
        {
          "output_type": "stream",
          "name": "stdout",
          "text": [
            "1.23.5\n"
          ]
        }
      ]
    },
    {
      "cell_type": "markdown",
      "metadata": {
        "id": "ij56w8_jsX7q"
      },
      "source": [
        "## __Creando Arreglos__"
      ]
    },
    {
      "cell_type": "markdown",
      "metadata": {
        "id": "BTyB0_c8siUd"
      },
      "source": [
        "Genere un arreglo de tamaño 10 lleno de ceros"
      ]
    },
    {
      "cell_type": "code",
      "metadata": {
        "id": "1oofgd2Fsvnz",
        "colab": {
          "base_uri": "https://localhost:8080/"
        },
        "outputId": "3fdcf6f9-59cb-4676-c0b0-ad3a7d255d96"
      },
      "source": [
        "arreglo_de_ceros = np.zeros(10)\n",
        "print(arreglo_de_ceros)"
      ],
      "execution_count": null,
      "outputs": [
        {
          "output_type": "stream",
          "name": "stdout",
          "text": [
            "[0. 0. 0. 0. 0. 0. 0. 0. 0. 0.]\n"
          ]
        }
      ]
    },
    {
      "cell_type": "markdown",
      "metadata": {
        "id": "C4mt5VAws0iq"
      },
      "source": [
        "Genere un arreglo con valores del 10 al 49"
      ]
    },
    {
      "cell_type": "code",
      "metadata": {
        "id": "4FUnmT49szcO",
        "colab": {
          "base_uri": "https://localhost:8080/"
        },
        "outputId": "b4d6440f-524c-4350-ac82-b3f301ed450a"
      },
      "source": [
        "arreglo_valores = np.arange(10, 50)\n",
        "print(arreglo_valores)"
      ],
      "execution_count": null,
      "outputs": [
        {
          "output_type": "stream",
          "name": "stdout",
          "text": [
            "[10 11 12 13 14 15 16 17 18 19 20 21 22 23 24 25 26 27 28 29 30 31 32 33\n",
            " 34 35 36 37 38 39 40 41 42 43 44 45 46 47 48 49]\n"
          ]
        }
      ]
    },
    {
      "cell_type": "markdown",
      "metadata": {
        "id": "AiQOdsm1s_Ez"
      },
      "source": [
        "Genere una matriz de $4 \\times 4$ con valores enteros llena de unos"
      ]
    },
    {
      "cell_type": "code",
      "metadata": {
        "id": "4CrNEEpes9-O",
        "colab": {
          "base_uri": "https://localhost:8080/"
        },
        "outputId": "0122ba95-d64e-44c2-e509-a134db60911b"
      },
      "source": [
        "matriz_de_unos = np.ones((4, 4), dtype=int)\n",
        "print(matriz_de_unos)"
      ],
      "execution_count": null,
      "outputs": [
        {
          "output_type": "stream",
          "name": "stdout",
          "text": [
            "[[1 1 1 1]\n",
            " [1 1 1 1]\n",
            " [1 1 1 1]\n",
            " [1 1 1 1]]\n"
          ]
        }
      ]
    },
    {
      "cell_type": "markdown",
      "metadata": {
        "id": "9FVODWyPtnn5"
      },
      "source": [
        "Genere una matriz de $ 2 \\times 2$ con valores flotantes llena de unos"
      ]
    },
    {
      "cell_type": "code",
      "metadata": {
        "id": "5r3VFYqBDn2m",
        "colab": {
          "base_uri": "https://localhost:8080/"
        },
        "outputId": "f2cbc1f6-d8f3-433c-d9b7-231349db3562"
      },
      "source": [
        "matriz_de_unos = np.ones((2, 2), dtype=float)\n",
        "print(matriz_de_unos)"
      ],
      "execution_count": null,
      "outputs": [
        {
          "output_type": "stream",
          "name": "stdout",
          "text": [
            "[[1. 1.]\n",
            " [1. 1.]]\n"
          ]
        }
      ]
    },
    {
      "cell_type": "markdown",
      "metadata": {
        "id": "c9OekBGcDlwg"
      },
      "source": [
        "Genere una matriz de  $ 3 \\times 4$ con valores enteros llena de cincos"
      ]
    },
    {
      "cell_type": "code",
      "metadata": {
        "id": "16SyOlNNs6Jk",
        "colab": {
          "base_uri": "https://localhost:8080/"
        },
        "outputId": "509b604c-a4e8-4cc5-9f63-2b9e15ec55ad"
      },
      "source": [
        "matriz_de_cincos = 5 * np.ones((3, 4), dtype=int)\n",
        "print(matriz_de_cincos)"
      ],
      "execution_count": null,
      "outputs": [
        {
          "output_type": "stream",
          "name": "stdout",
          "text": [
            "[[5 5 5 5]\n",
            " [5 5 5 5]\n",
            " [5 5 5 5]]\n"
          ]
        }
      ]
    },
    {
      "cell_type": "markdown",
      "metadata": {
        "id": "JamZbVBEuSXE"
      },
      "source": [
        "Genere una matriz identidad de $ 3 \\times 3$"
      ]
    },
    {
      "cell_type": "code",
      "metadata": {
        "id": "A-4qAu3cs6HK",
        "colab": {
          "base_uri": "https://localhost:8080/"
        },
        "outputId": "285005eb-277a-47ff-f1d8-4d32ed70ee70"
      },
      "source": [
        "matriz_identidad = np.eye(3, dtype=int)\n",
        "print(matriz_identidad)"
      ],
      "execution_count": null,
      "outputs": [
        {
          "output_type": "stream",
          "name": "stdout",
          "text": [
            "[[1 0 0]\n",
            " [0 1 0]\n",
            " [0 0 1]]\n"
          ]
        }
      ]
    },
    {
      "cell_type": "markdown",
      "metadata": {
        "id": "5krluO62uZtH"
      },
      "source": [
        "Genere una matriz de $ 3 \\times 4$ con valores aleatorios entre cero y uno"
      ]
    },
    {
      "cell_type": "code",
      "metadata": {
        "id": "mGWwrp6Hs55w",
        "colab": {
          "base_uri": "https://localhost:8080/"
        },
        "outputId": "da8c889d-19e3-48c5-dcdf-a10fd63749e3"
      },
      "source": [
        "matriz_aleatoria = np.random.rand(3, 4)\n",
        "print(matriz_aleatoria)"
      ],
      "execution_count": null,
      "outputs": [
        {
          "output_type": "stream",
          "name": "stdout",
          "text": [
            "[[0.18423768 0.7834237  0.76538862 0.17133679]\n",
            " [0.74207321 0.83213301 0.73851002 0.56911717]\n",
            " [0.25500464 0.02819841 0.40115018 0.75898824]]\n"
          ]
        }
      ]
    },
    {
      "cell_type": "markdown",
      "metadata": {
        "id": "1fmWt1Nqvijf"
      },
      "source": [
        "## __Manipulando índices__"
      ]
    },
    {
      "cell_type": "markdown",
      "metadata": {
        "id": "MX3-a9ukuqEO"
      },
      "source": [
        "Para el siguiente arreglo imprima el primer elemento"
      ]
    },
    {
      "cell_type": "code",
      "metadata": {
        "id": "kd4lV6g6uf2R",
        "colab": {
          "base_uri": "https://localhost:8080/"
        },
        "outputId": "0c099baa-4d1a-4d2e-d369-90f908d7521d"
      },
      "source": [
        "X = np.array(['A','B','C','D','E'])\n",
        "print(X[0])"
      ],
      "execution_count": null,
      "outputs": [
        {
          "output_type": "stream",
          "name": "stdout",
          "text": [
            "A\n"
          ]
        }
      ]
    },
    {
      "cell_type": "markdown",
      "metadata": {
        "id": "7HSJdaxyu1r7"
      },
      "source": [
        "Para el siguiente arreglo imprima  el primer y el último elemento"
      ]
    },
    {
      "cell_type": "code",
      "metadata": {
        "id": "oCENYCMbuhKH",
        "colab": {
          "base_uri": "https://localhost:8080/"
        },
        "outputId": "442dc5ba-e4e1-493b-ec85-12e9ed79ca14"
      },
      "source": [
        "X = np.array(['A','B','C','D','E'])\n",
        "print(\"Primer elemento:\", X[0])\n",
        "print(\"Último elemento:\", X[-1])"
      ],
      "execution_count": null,
      "outputs": [
        {
          "output_type": "stream",
          "name": "stdout",
          "text": [
            "Primer elemento: A\n",
            "Último elemento: E\n"
          ]
        }
      ]
    },
    {
      "cell_type": "markdown",
      "metadata": {
        "id": "zNaLoxQlu8PH"
      },
      "source": [
        "Para el siguiente arreglo imprima los primeros tres elementos"
      ]
    },
    {
      "cell_type": "code",
      "metadata": {
        "id": "3ZMhevmzug_v",
        "colab": {
          "base_uri": "https://localhost:8080/"
        },
        "outputId": "3dca70e1-4be9-4894-88c8-2e3e9b09e934"
      },
      "source": [
        "X = np.array(['A','B','C','D','E'])\n",
        "primeros_tres_elementos = X[:3]\n",
        "print(\"Primeros tres elementos:\", primeros_tres_elementos)"
      ],
      "execution_count": null,
      "outputs": [
        {
          "output_type": "stream",
          "name": "stdout",
          "text": [
            "Primeros tres elementos: ['A' 'B' 'C']\n"
          ]
        }
      ]
    },
    {
      "cell_type": "markdown",
      "metadata": {
        "id": "iWzVpVV2vFtv"
      },
      "source": [
        "Para el siguiente arreglo imprima todos los elementos menos el primero y el último"
      ]
    },
    {
      "cell_type": "code",
      "metadata": {
        "id": "IOqExBjMugzT",
        "colab": {
          "base_uri": "https://localhost:8080/"
        },
        "outputId": "f1a786c2-ac77-4de1-ede7-ce29a1adcc13"
      },
      "source": [
        "X = np.array(['A','B','C','D','E'])\n",
        "elementos_intermedios = X[1:-1]\n",
        "\n",
        "print(\"Elementos intermedios:\", elementos_intermedios)"
      ],
      "execution_count": null,
      "outputs": [
        {
          "output_type": "stream",
          "name": "stdout",
          "text": [
            "Elementos intermedios: ['B' 'C' 'D']\n"
          ]
        }
      ]
    },
    {
      "cell_type": "markdown",
      "metadata": {
        "id": "xLTtbObXvQNu"
      },
      "source": [
        "Para el siguiente arreglo imprima todos los elementos en orden inverso"
      ]
    },
    {
      "cell_type": "code",
      "metadata": {
        "id": "QHP4FmXuugke",
        "colab": {
          "base_uri": "https://localhost:8080/"
        },
        "outputId": "7cc99c17-3663-43b1-b0ff-9bdd72ef162a"
      },
      "source": [
        "X = np.array(['A','B','C','D','E'])\n",
        "elementos_en_inverso = X[::-1]\n",
        "\n",
        "print(\"Elementos en orden inverso:\", elementos_en_inverso)"
      ],
      "execution_count": null,
      "outputs": [
        {
          "output_type": "stream",
          "name": "stdout",
          "text": [
            "Elementos en orden inverso: ['E' 'D' 'C' 'B' 'A']\n"
          ]
        }
      ]
    },
    {
      "cell_type": "markdown",
      "metadata": {
        "id": "3yIi5YHCwArd"
      },
      "source": [
        "Para el siguiente arreglo imprima todos los elementos en posiciones pares"
      ]
    },
    {
      "cell_type": "code",
      "metadata": {
        "id": "zVc8b7c2ugP7",
        "colab": {
          "base_uri": "https://localhost:8080/"
        },
        "outputId": "944acef4-6841-4659-ed0b-37e58130982d"
      },
      "source": [
        "X = np.array(['A','B','C','D','E'])\n",
        "elementos_en_posiciones_pares = X[::2]\n",
        "\n",
        "print(\"Elementos en posiciones pares:\", elementos_en_posiciones_pares)"
      ],
      "execution_count": null,
      "outputs": [
        {
          "output_type": "stream",
          "name": "stdout",
          "text": [
            "Elementos en posiciones pares: ['A' 'C' 'E']\n"
          ]
        }
      ]
    },
    {
      "cell_type": "markdown",
      "metadata": {
        "id": "78vhf2GzwHBy"
      },
      "source": [
        "Para la siguiente matriz imprima la primera columna"
      ]
    },
    {
      "cell_type": "code",
      "metadata": {
        "id": "YiInCBlPwMnY",
        "colab": {
          "base_uri": "https://localhost:8080/"
        },
        "outputId": "66d8726f-7c4d-48c4-ee37-adb6daec3d2a"
      },
      "source": [
        "X = np.array([\n",
        "    [1,   2,  3,  4],\n",
        "    [5,   6,  7,  8],\n",
        "    [9,  10, 11, 12],\n",
        "    [13, 14, 15, 16]\n",
        "])\n",
        "primera_columna = X[:, 0]\n",
        "\n",
        "print(\"Primera columna:\", primera_columna)"
      ],
      "execution_count": null,
      "outputs": [
        {
          "output_type": "stream",
          "name": "stdout",
          "text": [
            "Primera columna: [ 1  5  9 13]\n"
          ]
        }
      ]
    },
    {
      "cell_type": "markdown",
      "metadata": {
        "id": "gjWE6dGiwRG3"
      },
      "source": [
        "Para la siguiente matriz imprima la última fila"
      ]
    },
    {
      "cell_type": "code",
      "metadata": {
        "id": "UbFowSu_wXhR",
        "colab": {
          "base_uri": "https://localhost:8080/"
        },
        "outputId": "41632fc9-40a6-43f1-ac0c-c42bb6949602"
      },
      "source": [
        "X = np.array([\n",
        "    [1,   2,  3,  4],\n",
        "    [5,   6,  7,  8],\n",
        "    [9,  10, 11, 12],\n",
        "    [13, 14, 15, 16]\n",
        "])\n",
        "ultima_fila = X[-1, :]\n",
        "\n",
        "print(\"Última fila:\", ultima_fila)"
      ],
      "execution_count": null,
      "outputs": [
        {
          "output_type": "stream",
          "name": "stdout",
          "text": [
            "Última fila: [13 14 15 16]\n"
          ]
        }
      ]
    },
    {
      "cell_type": "markdown",
      "metadata": {
        "id": "osQl86O3wZ4W"
      },
      "source": [
        "Para la siguiente matriz imprima el primer elemento de la segunda columna"
      ]
    },
    {
      "cell_type": "code",
      "metadata": {
        "id": "xEWka-CkwdI2",
        "colab": {
          "base_uri": "https://localhost:8080/"
        },
        "outputId": "7da52210-b486-4e99-e865-919e6c769c33"
      },
      "source": [
        "X = np.array([\n",
        "    [1,   2,  3,  4],\n",
        "    [5,   6,  7,  8],\n",
        "    [9,  10, 11, 12],\n",
        "    [13, 14, 15, 16]\n",
        "])\n",
        "primer_elemento_segunda_columna = X[0, 1]\n",
        "\n",
        "print(\"Primer elemento de la segunda columna:\", primer_elemento_segunda_columna)"
      ],
      "execution_count": null,
      "outputs": [
        {
          "output_type": "stream",
          "name": "stdout",
          "text": [
            "Primer elemento de la segunda columna: 2\n"
          ]
        }
      ]
    },
    {
      "cell_type": "markdown",
      "metadata": {
        "id": "WaMap3x_wlLc"
      },
      "source": [
        "Para la siguiente matriz imprima los primeros dos elementos de las dos primeras filas"
      ]
    },
    {
      "cell_type": "code",
      "metadata": {
        "id": "JnGtJo28wuqj",
        "colab": {
          "base_uri": "https://localhost:8080/"
        },
        "outputId": "6941c862-71e4-4e90-d2fc-45755845daad"
      },
      "source": [
        "X = np.array([\n",
        "    [1,   2,  3,  4],\n",
        "    [5,   6,  7,  8],\n",
        "    [9,  10, 11, 12],\n",
        "    [13, 14, 15, 16]\n",
        "])\n",
        "elementos_primeras_dos_filas = X[:2, :2]  # Accede a los primeros dos elementos de las dos primeras filas\n",
        "\n",
        "print(\"Primeros dos elementos de las dos primeras filas:\")\n",
        "print(elementos_primeras_dos_filas)"
      ],
      "execution_count": null,
      "outputs": [
        {
          "output_type": "stream",
          "name": "stdout",
          "text": [
            "Primeros dos elementos de las dos primeras filas:\n",
            "[[1 2]\n",
            " [5 6]]\n"
          ]
        }
      ]
    },
    {
      "cell_type": "markdown",
      "metadata": {
        "id": "Ga7rI3W7xFWB"
      },
      "source": [
        "Para la siguiente matriz imprima los últimos dos elementos de las últimas dos filas"
      ]
    },
    {
      "cell_type": "code",
      "metadata": {
        "id": "KwCR0k_axDU8",
        "colab": {
          "base_uri": "https://localhost:8080/"
        },
        "outputId": "7c9dd31a-178e-448f-9f52-6f5c95dbc436"
      },
      "source": [
        "X = np.array([\n",
        "    [1,   2,  3,  4],\n",
        "    [5,   6,  7,  8],\n",
        "    [9,  10, 11, 12],\n",
        "    [13, 14, 15, 16]\n",
        "])\n",
        "elementos_ultimas_dos_filas = X[-2:, -2:]  # Accede a los últimos dos elementos de las últimas dos filas\n",
        "\n",
        "print(\"Últimos dos elementos de las últimas dos filas:\")\n",
        "print(elementos_ultimas_dos_filas)"
      ],
      "execution_count": null,
      "outputs": [
        {
          "output_type": "stream",
          "name": "stdout",
          "text": [
            "Últimos dos elementos de las últimas dos filas:\n",
            "[[11 12]\n",
            " [15 16]]\n"
          ]
        }
      ]
    },
    {
      "cell_type": "markdown",
      "metadata": {
        "id": "TnLIP7qIxPsz"
      },
      "source": [
        "## __Modificando Arreglos__"
      ]
    },
    {
      "cell_type": "markdown",
      "metadata": {
        "id": "VGPjECGTxYJx"
      },
      "source": [
        "Convierta la siguiente lista a un arreglo de NumPy de tipo flotante"
      ]
    },
    {
      "cell_type": "code",
      "metadata": {
        "id": "9WpF9jtAxXrM",
        "colab": {
          "base_uri": "https://localhost:8080/"
        },
        "outputId": "80ba6c40-6ce6-43ee-e4e0-606e45c2303b"
      },
      "source": [
        "X = [-5, -3, 0, 10, 40]\n",
        "arreglo_np = np.array(X, dtype=float)\n",
        "\n",
        "print(arreglo_np)"
      ],
      "execution_count": null,
      "outputs": [
        {
          "output_type": "stream",
          "name": "stdout",
          "text": [
            "[-5. -3.  0. 10. 40.]\n"
          ]
        }
      ]
    },
    {
      "cell_type": "markdown",
      "metadata": {
        "id": "L-uyK6MCxpXC"
      },
      "source": [
        "Para el siguiente arreglo establezca el tercer elemento como 10\n"
      ]
    },
    {
      "cell_type": "code",
      "metadata": {
        "id": "e8OMbGvBx01e",
        "colab": {
          "base_uri": "https://localhost:8080/"
        },
        "outputId": "1ce8eeca-be0a-4189-e78f-33a7a2bc7273"
      },
      "source": [
        "X = np.array([10, 20, 30, 50])\n",
        "X[2] = 10\n",
        "\n",
        "print(X)"
      ],
      "execution_count": null,
      "outputs": [
        {
          "output_type": "stream",
          "name": "stdout",
          "text": [
            "[10 20 10 50]\n"
          ]
        }
      ]
    },
    {
      "cell_type": "markdown",
      "metadata": {
        "id": "1kevbFHQx7tX"
      },
      "source": [
        "Para la siguiente matriz cambie todos los valores de la última fila a unos"
      ]
    },
    {
      "cell_type": "code",
      "metadata": {
        "id": "PyXCUYrvyJgT",
        "colab": {
          "base_uri": "https://localhost:8080/"
        },
        "outputId": "401f981b-d7ec-48d4-872f-455c841c6d30"
      },
      "source": [
        "X = np.array([\n",
        "    [1,   2,  3,  4],\n",
        "    [5,   6,  7,  8],\n",
        "    [9,  10, 11, 12],\n",
        "    [13, 14, 15, 16]\n",
        "])\n",
        "X[-1, :] = np.ones(X.shape[1], dtype=int)\n",
        "\n",
        "print(X)"
      ],
      "execution_count": null,
      "outputs": [
        {
          "output_type": "stream",
          "name": "stdout",
          "text": [
            "[[ 1  2  3  4]\n",
            " [ 5  6  7  8]\n",
            " [ 9 10 11 12]\n",
            " [ 1  1  1  1]]\n"
          ]
        }
      ]
    },
    {
      "cell_type": "markdown",
      "metadata": {
        "id": "ViJ8-LTJynVc"
      },
      "source": [
        "Para la siguiente matriz cambie el último elemento de la última fila a cero"
      ]
    },
    {
      "cell_type": "code",
      "metadata": {
        "id": "IVfrbes-yt9C",
        "colab": {
          "base_uri": "https://localhost:8080/"
        },
        "outputId": "e49c7c75-c775-4e42-8b63-9e6eefcfbd36"
      },
      "source": [
        "X = np.array([\n",
        "    [1,   2,  3,  4],\n",
        "    [5,   6,  7,  8],\n",
        "    [9,  10, 11, 12],\n",
        "    [13, 14, 15, 16]\n",
        "])\n",
        "X[-1, -1] = 0\n",
        "\n",
        "print(X)"
      ],
      "execution_count": null,
      "outputs": [
        {
          "output_type": "stream",
          "name": "stdout",
          "text": [
            "[[ 1  2  3  4]\n",
            " [ 5  6  7  8]\n",
            " [ 9 10 11 12]\n",
            " [13 14 15  0]]\n"
          ]
        }
      ]
    },
    {
      "cell_type": "markdown",
      "metadata": {
        "id": "U6cOMz9RywV9"
      },
      "source": [
        "Dada la siguiente matriz sume 5 unidades a cada elemento"
      ]
    },
    {
      "cell_type": "code",
      "metadata": {
        "id": "Lvr7lIAgy1of",
        "colab": {
          "base_uri": "https://localhost:8080/"
        },
        "outputId": "33f637fc-f0d3-40e4-e354-f7de678bf523"
      },
      "source": [
        "X = np.array([\n",
        "    [1,   2,  3,  4],\n",
        "    [5,   6,  7,  8],\n",
        "    [9,  10, 11, 12],\n",
        "    [13, 14, 15, 16]\n",
        "])\n",
        "X += 5\n",
        "\n",
        "print(X)"
      ],
      "execution_count": null,
      "outputs": [
        {
          "output_type": "stream",
          "name": "stdout",
          "text": [
            "[[ 6  7  8  9]\n",
            " [10 11 12 13]\n",
            " [14 15 16 17]\n",
            " [18 19 20 21]]\n"
          ]
        }
      ]
    },
    {
      "cell_type": "markdown",
      "metadata": {
        "id": "2xkG6B85y3ui"
      },
      "source": [
        "## __Arreglos Booleanos__"
      ]
    },
    {
      "cell_type": "markdown",
      "metadata": {
        "id": "5F308WgXy8wj"
      },
      "source": [
        "Para el siguiente arreglo imprima únicamente los valores negativos"
      ]
    },
    {
      "cell_type": "code",
      "metadata": {
        "id": "Gkz8amp4zFhF",
        "colab": {
          "base_uri": "https://localhost:8080/"
        },
        "outputId": "35f6459c-4916-4834-ed97-ba45c01cfa7f"
      },
      "source": [
        "X = np.array([-1,2,0,-4,5,6,0,0,-9,10])\n",
        "valores_negativos = X[X < 0]\n",
        "\n",
        "print(\"Valores negativos:\", valores_negativos)"
      ],
      "execution_count": null,
      "outputs": [
        {
          "output_type": "stream",
          "name": "stdout",
          "text": [
            "Valores negativos: [-1 -4 -9]\n"
          ]
        }
      ]
    },
    {
      "cell_type": "markdown",
      "metadata": {
        "id": "nTjris9izIOY"
      },
      "source": [
        "Parael siguiente arreglo imprima todos los valores mayores a 5"
      ]
    },
    {
      "cell_type": "code",
      "metadata": {
        "id": "d0YkvO0ezMF4",
        "colab": {
          "base_uri": "https://localhost:8080/"
        },
        "outputId": "0387f55a-3392-41bb-d8bc-5a3099135dc5"
      },
      "source": [
        "X = np.array([-1,2,0,-4,5,6,0,0,-9,10])\n",
        "valores_mayores_a_5 = X[X > 5]\n",
        "\n",
        "print(\"Valores mayores a 5:\", valores_mayores_a_5)"
      ],
      "execution_count": null,
      "outputs": [
        {
          "output_type": "stream",
          "name": "stdout",
          "text": [
            "Valores mayores a 5: [ 6 10]\n"
          ]
        }
      ]
    },
    {
      "cell_type": "markdown",
      "metadata": {
        "id": "41aZehlszNEu"
      },
      "source": [
        "Para el siguiente arreglo imprima todos los valores mayores o iguales a la media"
      ]
    },
    {
      "cell_type": "code",
      "metadata": {
        "id": "HCuNQ0fezM07",
        "colab": {
          "base_uri": "https://localhost:8080/"
        },
        "outputId": "ceade9e1-5fe8-40fe-c1d1-31f46cfc061c"
      },
      "source": [
        "X = np.array([-1,2,0,-4,5,6,0,0,-9,10])\n",
        "media = np.mean(X)\n",
        "valores_mayores_o_iguales_a_media = X[X >= media]\n",
        "\n",
        "print(\"Media\", media)\n",
        "print(\"Valores mayores o iguales a la media:\", valores_mayores_o_iguales_a_media)"
      ],
      "execution_count": null,
      "outputs": [
        {
          "output_type": "stream",
          "name": "stdout",
          "text": [
            "Media 0.9\n",
            "Valores mayores o iguales a la media: [ 2  5  6 10]\n"
          ]
        }
      ]
    },
    {
      "cell_type": "markdown",
      "metadata": {
        "id": "4hNCbg0TzVwO"
      },
      "source": [
        "Para el siguiente arreglo imprima todos los valores iguales a dos o a 10"
      ]
    },
    {
      "cell_type": "code",
      "metadata": {
        "id": "3Kp2fbixzU0f",
        "colab": {
          "base_uri": "https://localhost:8080/"
        },
        "outputId": "a26858e1-11c1-4ab1-8486-0fb66d9c4de7"
      },
      "source": [
        "X = np.array([-1,2,0,-4,5,6,0,0,-9,10])\n",
        "valores_iguales_a_2_o_10 = X[(X == 2) | (X == 10)]\n",
        "\n",
        "print(\"Valores iguales a 2 o a 10:\", valores_iguales_a_2_o_10)"
      ],
      "execution_count": null,
      "outputs": [
        {
          "output_type": "stream",
          "name": "stdout",
          "text": [
            "Valores iguales a 2 o a 10: [ 2 10]\n"
          ]
        }
      ]
    },
    {
      "cell_type": "markdown",
      "source": [
        "Para el siguiente arreglo imprima todos los valores menores a la desviación estándar o mayores a la media."
      ],
      "metadata": {
        "id": "wpAjrm0J1Tf-"
      }
    },
    {
      "cell_type": "code",
      "source": [
        "X = np.array([-1,2,0,-4,5,6,0,0,-9,10])\n",
        "media = np.mean(X)\n",
        "desviacion_estandar = np.std(X)\n",
        "\n",
        "valores_seleccionados = (X < desviacion_estandar) | (X > media)\n",
        "\n",
        "print(\"Media \",media)\n",
        "print(\"Desviación estándar \", desviacion_estandar)\n",
        "print(\"Valores menores a la desviación estándar o mayores a la media:\", X[valores_seleccionados])"
      ],
      "metadata": {
        "id": "LQuV2FLp1uZo",
        "colab": {
          "base_uri": "https://localhost:8080/"
        },
        "outputId": "fa8ec06c-eb18-42c6-dc2f-53f5742df439"
      },
      "execution_count": null,
      "outputs": [
        {
          "output_type": "stream",
          "name": "stdout",
          "text": [
            "Media  0.9\n",
            "Desviación estándar  5.048762224545735\n",
            "Valores menores a la desviación estándar o mayores a la media: [-1  2  0 -4  5  6  0  0 -9 10]\n"
          ]
        }
      ]
    },
    {
      "cell_type": "markdown",
      "metadata": {
        "id": "uNF5gWT1zfxC"
      },
      "source": [
        "## __Estadísticas__"
      ]
    },
    {
      "cell_type": "markdown",
      "metadata": {
        "id": "8oFMU9FZzkLx"
      },
      "source": [
        "Para el siguiente arreglo imprima la suma de sus valores"
      ]
    },
    {
      "cell_type": "code",
      "metadata": {
        "id": "Kc3xeUeZzjwP",
        "colab": {
          "base_uri": "https://localhost:8080/"
        },
        "outputId": "1b33c268-4234-431c-d9d9-6ddcdfd524b2"
      },
      "source": [
        "X = np.array([1, 2, 0, 4, 5, 6, 0, 0, 9, 10])\n",
        "\n",
        "print(\"Suma de los valores en el arreglo X:\", np.sum(X))"
      ],
      "execution_count": null,
      "outputs": [
        {
          "output_type": "stream",
          "name": "stdout",
          "text": [
            "Suma de los valores en el arreglo X: 37\n"
          ]
        }
      ]
    },
    {
      "cell_type": "markdown",
      "metadata": {
        "id": "mZAhelS8zwsD"
      },
      "source": [
        "Para la siguiente matriz imprima la media de sus columnas"
      ]
    },
    {
      "cell_type": "code",
      "metadata": {
        "id": "7Zm2T6nDz3Kv",
        "colab": {
          "base_uri": "https://localhost:8080/"
        },
        "outputId": "ef03e4ec-6218-4688-dfb9-a5ba54fff44b"
      },
      "source": [
        "X = np.array([\n",
        "    [1,   2,  3,  4],\n",
        "    [5,   6,  7,  8],\n",
        "    [9,  10, 11, 12],\n",
        "    [13, 14, 15, 16]\n",
        "])\n",
        "media_columnas = np.mean(X, axis=0)\n",
        "\n",
        "print(\"Media de las columnas de la matriz X:\")\n",
        "print(media_columnas)"
      ],
      "execution_count": null,
      "outputs": [
        {
          "output_type": "stream",
          "name": "stdout",
          "text": [
            "Media de las columnas de la matriz X:\n",
            "[ 7.  8.  9. 10.]\n"
          ]
        }
      ]
    },
    {
      "cell_type": "markdown",
      "metadata": {
        "id": "Ms8WDjPbz-T4"
      },
      "source": [
        "Para la siguiente matriz imprima la suma de sus filas"
      ]
    },
    {
      "cell_type": "code",
      "metadata": {
        "id": "JZevQqh3z8LO",
        "colab": {
          "base_uri": "https://localhost:8080/"
        },
        "outputId": "bd89e9a8-0abc-4e27-8e7c-f57436bf70d9"
      },
      "source": [
        "X = np.array([\n",
        "    [1,   2,  3,  4],\n",
        "    [5,   6,  7,  8],\n",
        "    [9,  10, 11, 12],\n",
        "    [13, 14, 15, 16]\n",
        "])\n",
        "suma_filas = np.sum(X, axis=1)\n",
        "\n",
        "print(\"Suma de las filas de la matriz X:\")\n",
        "print(suma_filas)"
      ],
      "execution_count": null,
      "outputs": [
        {
          "output_type": "stream",
          "name": "stdout",
          "text": [
            "Suma de las filas de la matriz X:\n",
            "[10 26 42 58]\n"
          ]
        }
      ]
    },
    {
      "cell_type": "markdown",
      "source": [
        "Para la siguiente matriz, imprima el valor máximo"
      ],
      "metadata": {
        "id": "lYFofSls_uWr"
      }
    },
    {
      "cell_type": "code",
      "source": [
        "X = np.array([\n",
        "    [1,   2,  3,  4],\n",
        "    [5,   6,  7,  8],\n",
        "    [9,  10, 11, 12],\n",
        "    [13, 14, 15, 16]\n",
        "])\n",
        "print(\"Valor máximo de la matriz X:\", np.max(X))"
      ],
      "metadata": {
        "id": "9ILEbPAJ_tqh",
        "colab": {
          "base_uri": "https://localhost:8080/"
        },
        "outputId": "86db72f0-4b37-4669-df74-6695c6145010"
      },
      "execution_count": null,
      "outputs": [
        {
          "output_type": "stream",
          "name": "stdout",
          "text": [
            "Valor máximo de la matriz X: 16\n"
          ]
        }
      ]
    }
  ]
}