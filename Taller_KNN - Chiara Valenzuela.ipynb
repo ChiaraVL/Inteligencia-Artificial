{
  "nbformat": 4,
  "nbformat_minor": 0,
  "metadata": {
    "colab": {
      "provenance": []
    },
    "kernelspec": {
      "name": "python3",
      "display_name": "Python 3"
    },
    "language_info": {
      "name": "python"
    }
  },
  "cells": [
    {
      "cell_type": "markdown",
      "source": [
        "<p align=\"center\">\n",
        "<FONT FACE=\"times new roman\" SIZE=5>\n",
        "<br>\n",
        "<img src=\"https://res-5.cloudinary.com/crunchbase-production/image/upload/c_lpad,h_256,w_256,f_auto,q_auto:eco/v1455514364/pim02bzqvgz0hibsra41.png\"\n",
        "width=\"250\" height=\"250\">\n",
        "</img>\n",
        "<br>\n",
        "<i><b>Docente:</b> Juan Pablo Ospina Lopez.</i>\n",
        "<br>\n",
        "<i><b>Asignatura:</b> Inteligencia Artificial</i>\n",
        "<br>\n",
        "<i><b>Estudiante:</b> Chiara Vivian Valenzuela Losada</i>\n",
        "<br>\n",
        "<i><b>Tema:</b> Implementación KNN.</i>\n",
        "<br>\n",
        "<i>16/11/2023</i>\n",
        "</FONT>\n",
        "</p>"
      ],
      "metadata": {
        "id": "94iOYeajRvOX"
      }
    },
    {
      "cell_type": "markdown",
      "source": [
        "##Importaciones y datos"
      ],
      "metadata": {
        "id": "YD1BObOJ1f4o"
      }
    },
    {
      "cell_type": "code",
      "source": [
        "import pandas as pd\n",
        "from sklearn.neighbors import KNeighborsClassifier\n",
        "import math"
      ],
      "metadata": {
        "id": "uz5DHcCTPv3V"
      },
      "execution_count": 1,
      "outputs": []
    },
    {
      "cell_type": "code",
      "source": [
        "x1 = [8, 9, 2, 8, 2, 1, 1, 2, 3, 1]\n",
        "x2 = [2, 5, 3, 6, 3, 2, 5, 6, 8, 9]\n",
        "y = [\"azul\", \"rojo\", \"azul\", \"azul\", \"azul\", \"rojo\", \"rojo\", \"rojo\", \"rojo\", \"azul\"]\n",
        "\n",
        "df = pd.DataFrame({\n",
        "    \"x1\": x1,\n",
        "    \"x2\": x2,\n",
        "    \"y\": y\n",
        "})\n",
        "\n",
        "# Separar características y etiquetas\n",
        "X = df[['x1', 'x2']]\n",
        "y = df['y']"
      ],
      "metadata": {
        "id": "irFkHz_2P0bw"
      },
      "execution_count": 2,
      "outputs": []
    },
    {
      "cell_type": "markdown",
      "source": [
        "##Implementación manual"
      ],
      "metadata": {
        "id": "BpPyqp6-1YPa"
      }
    },
    {
      "cell_type": "code",
      "source": [
        "def distancia_entre_puntos(x1, y1, x2, y2):\n",
        "    distancia = math.sqrt((x2 - x1) ** 2 + (y2 - y1) ** 2)\n",
        "    return distancia\n",
        "\n",
        "def knn(df, k, punto):\n",
        "    df['distancia'] = df.apply(lambda row: distancia_entre_puntos(punto[0], punto[1], row['x1'], row['x2']), axis=1)\n",
        "    df = df.sort_values('distancia')\n",
        "    mas_cerca = df.head(k)\n",
        "    class_counts = mas_cerca['y'].value_counts()\n",
        "    clase_predicha = class_counts.idxmax()\n",
        "    distancia_k = mas_cerca['distancia']\n",
        "\n",
        "    return clase_predicha, distancia_k"
      ],
      "metadata": {
        "id": "v110PWnjPg3a"
      },
      "execution_count": 3,
      "outputs": []
    },
    {
      "cell_type": "code",
      "source": [
        "clase_predicha, distancia_k = knn(df, k=9, punto=(6, 3))\n",
        "\n",
        "print(\"Clase: \", clase_predicha)\n",
        "print(\"Distancia: \\n \", distancia_k)"
      ],
      "metadata": {
        "colab": {
          "base_uri": "https://localhost:8080/"
        },
        "id": "qpQsUnrI11jz",
        "outputId": "9d602752-effa-4691-8209-0d02bcb0a9a0"
      },
      "execution_count": 4,
      "outputs": [
        {
          "output_type": "stream",
          "name": "stdout",
          "text": [
            "Clase:  rojo\n",
            "Distancia: \n",
            "  0    2.236068\n",
            "1    3.605551\n",
            "3    3.605551\n",
            "2    4.000000\n",
            "4    4.000000\n",
            "7    5.000000\n",
            "5    5.099020\n",
            "6    5.385165\n",
            "8    5.830952\n",
            "Name: distancia, dtype: float64\n"
          ]
        }
      ]
    },
    {
      "cell_type": "markdown",
      "source": [
        "##Implementación con librerías"
      ],
      "metadata": {
        "id": "Kjaay40G1bkS"
      }
    },
    {
      "cell_type": "code",
      "execution_count": 5,
      "metadata": {
        "colab": {
          "base_uri": "https://localhost:8080/",
          "height": 74
        },
        "id": "Q5XW-YjHPCFk",
        "outputId": "edaba5a0-012e-407d-dd83-99815f534677"
      },
      "outputs": [
        {
          "output_type": "execute_result",
          "data": {
            "text/plain": [
              "KNeighborsClassifier(n_neighbors=9)"
            ],
            "text/html": [
              "<style>#sk-container-id-1 {color: black;background-color: white;}#sk-container-id-1 pre{padding: 0;}#sk-container-id-1 div.sk-toggleable {background-color: white;}#sk-container-id-1 label.sk-toggleable__label {cursor: pointer;display: block;width: 100%;margin-bottom: 0;padding: 0.3em;box-sizing: border-box;text-align: center;}#sk-container-id-1 label.sk-toggleable__label-arrow:before {content: \"▸\";float: left;margin-right: 0.25em;color: #696969;}#sk-container-id-1 label.sk-toggleable__label-arrow:hover:before {color: black;}#sk-container-id-1 div.sk-estimator:hover label.sk-toggleable__label-arrow:before {color: black;}#sk-container-id-1 div.sk-toggleable__content {max-height: 0;max-width: 0;overflow: hidden;text-align: left;background-color: #f0f8ff;}#sk-container-id-1 div.sk-toggleable__content pre {margin: 0.2em;color: black;border-radius: 0.25em;background-color: #f0f8ff;}#sk-container-id-1 input.sk-toggleable__control:checked~div.sk-toggleable__content {max-height: 200px;max-width: 100%;overflow: auto;}#sk-container-id-1 input.sk-toggleable__control:checked~label.sk-toggleable__label-arrow:before {content: \"▾\";}#sk-container-id-1 div.sk-estimator input.sk-toggleable__control:checked~label.sk-toggleable__label {background-color: #d4ebff;}#sk-container-id-1 div.sk-label input.sk-toggleable__control:checked~label.sk-toggleable__label {background-color: #d4ebff;}#sk-container-id-1 input.sk-hidden--visually {border: 0;clip: rect(1px 1px 1px 1px);clip: rect(1px, 1px, 1px, 1px);height: 1px;margin: -1px;overflow: hidden;padding: 0;position: absolute;width: 1px;}#sk-container-id-1 div.sk-estimator {font-family: monospace;background-color: #f0f8ff;border: 1px dotted black;border-radius: 0.25em;box-sizing: border-box;margin-bottom: 0.5em;}#sk-container-id-1 div.sk-estimator:hover {background-color: #d4ebff;}#sk-container-id-1 div.sk-parallel-item::after {content: \"\";width: 100%;border-bottom: 1px solid gray;flex-grow: 1;}#sk-container-id-1 div.sk-label:hover label.sk-toggleable__label {background-color: #d4ebff;}#sk-container-id-1 div.sk-serial::before {content: \"\";position: absolute;border-left: 1px solid gray;box-sizing: border-box;top: 0;bottom: 0;left: 50%;z-index: 0;}#sk-container-id-1 div.sk-serial {display: flex;flex-direction: column;align-items: center;background-color: white;padding-right: 0.2em;padding-left: 0.2em;position: relative;}#sk-container-id-1 div.sk-item {position: relative;z-index: 1;}#sk-container-id-1 div.sk-parallel {display: flex;align-items: stretch;justify-content: center;background-color: white;position: relative;}#sk-container-id-1 div.sk-item::before, #sk-container-id-1 div.sk-parallel-item::before {content: \"\";position: absolute;border-left: 1px solid gray;box-sizing: border-box;top: 0;bottom: 0;left: 50%;z-index: -1;}#sk-container-id-1 div.sk-parallel-item {display: flex;flex-direction: column;z-index: 1;position: relative;background-color: white;}#sk-container-id-1 div.sk-parallel-item:first-child::after {align-self: flex-end;width: 50%;}#sk-container-id-1 div.sk-parallel-item:last-child::after {align-self: flex-start;width: 50%;}#sk-container-id-1 div.sk-parallel-item:only-child::after {width: 0;}#sk-container-id-1 div.sk-dashed-wrapped {border: 1px dashed gray;margin: 0 0.4em 0.5em 0.4em;box-sizing: border-box;padding-bottom: 0.4em;background-color: white;}#sk-container-id-1 div.sk-label label {font-family: monospace;font-weight: bold;display: inline-block;line-height: 1.2em;}#sk-container-id-1 div.sk-label-container {text-align: center;}#sk-container-id-1 div.sk-container {/* jupyter's `normalize.less` sets `[hidden] { display: none; }` but bootstrap.min.css set `[hidden] { display: none !important; }` so we also need the `!important` here to be able to override the default hidden behavior on the sphinx rendered scikit-learn.org. See: https://github.com/scikit-learn/scikit-learn/issues/21755 */display: inline-block !important;position: relative;}#sk-container-id-1 div.sk-text-repr-fallback {display: none;}</style><div id=\"sk-container-id-1\" class=\"sk-top-container\"><div class=\"sk-text-repr-fallback\"><pre>KNeighborsClassifier(n_neighbors=9)</pre><b>In a Jupyter environment, please rerun this cell to show the HTML representation or trust the notebook. <br />On GitHub, the HTML representation is unable to render, please try loading this page with nbviewer.org.</b></div><div class=\"sk-container\" hidden><div class=\"sk-item\"><div class=\"sk-estimator sk-toggleable\"><input class=\"sk-toggleable__control sk-hidden--visually\" id=\"sk-estimator-id-1\" type=\"checkbox\" checked><label for=\"sk-estimator-id-1\" class=\"sk-toggleable__label sk-toggleable__label-arrow\">KNeighborsClassifier</label><div class=\"sk-toggleable__content\"><pre>KNeighborsClassifier(n_neighbors=9)</pre></div></div></div></div></div>"
            ]
          },
          "metadata": {},
          "execution_count": 5
        }
      ],
      "source": [
        "knn = KNeighborsClassifier(n_neighbors=9)\n",
        "knn.fit(X, y)"
      ]
    },
    {
      "cell_type": "code",
      "source": [
        "nuevo_punto = [[6, 3]]  # Nuevo punto a predecir\n",
        "prediccion = knn.predict(nuevo_punto)\n",
        "distancias, vecinos = knn.kneighbors(nuevo_punto)\n",
        "print(\"Distancias a los vecinos más cercanos: \\n\", distancias)\n",
        "print(\"Clase predicha:\", prediccion)"
      ],
      "metadata": {
        "colab": {
          "base_uri": "https://localhost:8080/"
        },
        "id": "0luoYR_X2dyq",
        "outputId": "ce415145-dad8-4c3c-9931-a9c5d136dac7"
      },
      "execution_count": 6,
      "outputs": [
        {
          "output_type": "stream",
          "name": "stdout",
          "text": [
            "Distancias a los vecinos más cercanos: \n",
            " [[2.23606798 3.60555128 3.60555128 4.         4.         5.\n",
            "  5.09901951 5.38516481 5.83095189]]\n",
            "Clase predicha: ['rojo']\n"
          ]
        },
        {
          "output_type": "stream",
          "name": "stderr",
          "text": [
            "/usr/local/lib/python3.10/dist-packages/sklearn/base.py:439: UserWarning: X does not have valid feature names, but KNeighborsClassifier was fitted with feature names\n",
            "  warnings.warn(\n",
            "/usr/local/lib/python3.10/dist-packages/sklearn/base.py:439: UserWarning: X does not have valid feature names, but KNeighborsClassifier was fitted with feature names\n",
            "  warnings.warn(\n"
          ]
        }
      ]
    },
    {
      "cell_type": "markdown",
      "source": [
        "##Comparación"
      ],
      "metadata": {
        "id": "wViu6olF3xLK"
      }
    },
    {
      "cell_type": "markdown",
      "source": [
        "\n",
        "Comparando los resultados de tu implementación manual de KNN con la implementación de la librería KNeighborsClassifier de Scikit-learn para el mismo punto de prueba (6, 3) y k=9, vemos que:\n",
        "\n",
        "Ambas implementaciones han encontrado los mismos vecinos más cercanos y han predicho la misma clase ('rojo') para el punto (6, 3). Las distancias a los vecinos más cercanos son prácticamente idénticas entre las dos implementaciones, con pequeñas diferencias debido a la precisión en los cálculos de punto flotante.\n",
        "\n",
        "Esto sugiere que ambas implementaciones están funcionando correctamente para este caso específico y están proporcionando resultados coherentes y similares."
      ],
      "metadata": {
        "id": "VjbQF8aT34nc"
      }
    }
  ]
}